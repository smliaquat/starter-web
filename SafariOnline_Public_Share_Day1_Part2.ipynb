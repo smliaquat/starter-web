{
  "nbformat": 4,
  "nbformat_minor": 0,
  "metadata": {
    "colab": {
      "name": "SafariOnline-Public-Share-Day1-Part2.ipynb",
      "version": "0.3.2",
      "provenance": [],
      "collapsed_sections": []
    },
    "kernelspec": {
      "name": "python3",
      "display_name": "Python 3"
    }
  },
  "cells": [
    {
      "cell_type": "markdown",
      "metadata": {
        "id": "view-in-github",
        "colab_type": "text"
      },
      "source": [
        "[View in Colaboratory](https://colab.research.google.com/github/smliaquat/starter-web/blob/master/SafariOnline_Public_Share_Day1_Part2.ipynb)"
      ]
    },
    {
      "metadata": {
        "id": "4J2lIggJLUMS",
        "colab_type": "text"
      },
      "cell_type": "markdown",
      "source": [
        "# **Essential Machine Learning and Exploratory Data Analysis with Python and Jupyter Notebook**"
      ]
    },
    {
      "metadata": {
        "id": "HWKUOfEBUMLS",
        "colab_type": "text"
      },
      "cell_type": "markdown",
      "source": [
        "## Part 2: Intermediate Topics (1 Hour + 15 Minutes)"
      ]
    },
    {
      "metadata": {
        "id": "6HJtGuiKUYFU",
        "colab_type": "text"
      },
      "cell_type": "markdown",
      "source": [
        "### Modules\n",
        "\n",
        "A module is just a python file that is imported\n"
      ]
    },
    {
      "metadata": {
        "id": "GDgpLORerhs5",
        "colab_type": "text"
      },
      "cell_type": "markdown",
      "source": [
        "### Writing a library in python\n",
        "It doesn't take long into a project before writing a library in python becomes important.  These are the basics\n",
        "In this repository there is a folder called ```funclib``` and inside is a ```__init__.py``` file.  To create a library, a module is needed in this directory with a function in it.\n",
        "\n",
        "Create a file:\n",
        "\n",
        "```\n",
        "touch funclib/funcmod.py\n",
        "\n",
        "```\n",
        "\n",
        "Inside this file, a function is created:\n",
        "\n",
        "\n",
        "```python\n",
        "\"\"\"This is a simple module\"\"\"\n",
        "\n",
        "def list_of_belts_in_bjj():\n",
        "    \"\"\"Returns a list of the belts in Brazilian Jiu Jitsu\"\"\"\n",
        "\n",
        "    belts = [\"white\", \"blue\", \"purple\", \"brown\", \"black\"]\n",
        "    return belts\n",
        "```\n"
      ]
    },
    {
      "metadata": {
        "id": "JT3lliEesHSL",
        "colab_type": "text"
      },
      "cell_type": "markdown",
      "source": [
        "### Importing a library in python and using namespaces\n",
        "\n",
        "With Jupyter, if a library is directory above, sys.path.append can be added so it will be imported.\n",
        "Next, the module is imported using the namespace of the folder/filename/function name that was created earlier.\n",
        "\n",
        "Import inside Jupyter\n",
        "\n",
        "```python\n",
        "import sys;sys.path.append(\"..\")\n",
        "from funclib import funcmod\n",
        "```\n",
        "\n",
        "Namespace in use\n",
        "\n",
        "```python\n",
        "funcmod.list_of_belts_in_bjj()\n",
        "['white', 'blue', 'purple', 'brown', 'black']\n",
        "```"
      ]
    },
    {
      "metadata": {
        "id": "1IwEqR93s2ak",
        "colab_type": "text"
      },
      "cell_type": "markdown",
      "source": [
        "### Using other libraries with pip install\n",
        "\n",
        "Installing other libraries can be done with the ```pip install``` command\n",
        "\n",
        "To install the pandas package:\n",
        "\n",
        "```pip install pandas```\n",
        "\n",
        "Alternatively packages can be installed using a requirements.txt file\n",
        "\n",
        "```\n",
        "> cat requirements.txt \n",
        "pylint\n",
        "pytest\n",
        "pytest-cov\n",
        "click\n",
        "jupyter\n",
        "nbval\n",
        "\n",
        "> pip install -r requirements.txt\n",
        "\n",
        "```\n",
        "\n",
        "\n"
      ]
    },
    {
      "metadata": {
        "id": "k8w09ms5twI-",
        "colab_type": "text"
      },
      "cell_type": "markdown",
      "source": [
        "### Mixing third party libraries with your code\n",
        "\n",
        "Import it in the library\n",
        "\n",
        "```python\n",
        "\"\"\"This is a simple module\"\"\"\n",
        "\n",
        "import pandas as pd\n",
        "\n",
        "def list_of_belts_in_bjj():\n",
        "    \"\"\"Returns a list of the belts in Brazilian Jiu Jitsu\"\"\"\n",
        "\n",
        "    belts = [\"white\", \"blue\", \"purple\", \"brown\", \"black\"]\n",
        "    return belts\n",
        "\n",
        "def count_belts():\n",
        "    \"\"\"Uses Pandas to count number of belts\"\"\"\n",
        "\n",
        "    belts = list_of_belts_in_bjj()\n",
        "    df = pd.DataFrame(belts)\n",
        "    res = df.count()\n",
        "    count = res.values.tolist()[0]\n",
        "    return count \n",
        "```\n"
      ]
    },
    {
      "metadata": {
        "id": "g9u4atSCDO4A",
        "colab_type": "text"
      },
      "cell_type": "markdown",
      "source": [
        "### Creating A Full Python Project\n",
        "\n",
        "A more complete example can be found by walking through this Github project:\n",
        "\n",
        "https://github.com/noahgift/myrepo\n",
        "\n",
        "An entire screencast of this project being created can be viewed later here:\n",
        "\n",
        "https://www.dropbox.com/s/yohpxvic00g4w44/project_setup.mov?dl=0\n"
      ]
    },
    {
      "metadata": {
        "id": "0jZXrLCFuFeg",
        "colab_type": "text"
      },
      "cell_type": "markdown",
      "source": [
        "### Writing classes basics\n",
        "\n",
        "Using classes and interacting with them can be done iteratively in Jupyter Notebook.\n",
        "The simplest type of class is just a name as shown below:\n",
        "```\n",
        "class Competitor: pass\n",
        "```\n",
        "\n"
      ]
    },
    {
      "metadata": {
        "id": "ibbLqunAvqtM",
        "colab_type": "code",
        "colab": {}
      },
      "cell_type": "code",
      "source": [
        "class Competitor: pass"
      ],
      "execution_count": 0,
      "outputs": []
    },
    {
      "metadata": {
        "id": "urb3B-XLvurw",
        "colab_type": "code",
        "colab": {}
      },
      "cell_type": "code",
      "source": [
        "conor = Competitor()\n",
        "conor.name = \"Conor McGregor\"\n",
        "conor.age = 29\n",
        "conor.weight = 155\n"
      ],
      "execution_count": 0,
      "outputs": []
    },
    {
      "metadata": {
        "id": "Mf_ffg1hv0E9",
        "colab_type": "code",
        "colab": {}
      },
      "cell_type": "code",
      "source": [
        "nate = Competitor()\n",
        "nate.name = \"Nate Diaz\"\n",
        "nate.age = 30\n",
        "nate.weight = 170"
      ],
      "execution_count": 0,
      "outputs": []
    },
    {
      "metadata": {
        "id": "7Ja65UBav6gK",
        "colab_type": "code",
        "colab": {}
      },
      "cell_type": "code",
      "source": [
        "def print_competitor_age(object):\n",
        "    \"\"\"Print out age statistics about a competitor\"\"\"\n",
        "    \n",
        "    print(f\"{object.name} is {object.age} years old\")"
      ],
      "execution_count": 0,
      "outputs": []
    },
    {
      "metadata": {
        "id": "cpSbiqSQwJS5",
        "colab_type": "code",
        "colab": {
          "base_uri": "https://localhost:8080/",
          "height": 34
        },
        "outputId": "44119d21-c90f-4e31-f442-b76d405d7986"
      },
      "cell_type": "code",
      "source": [
        "print_competitor_age(nate)"
      ],
      "execution_count": 0,
      "outputs": [
        {
          "output_type": "stream",
          "text": [
            "Nate Diaz is 30 years old\n"
          ],
          "name": "stdout"
        }
      ]
    },
    {
      "metadata": {
        "id": "bkjkMRsjwLm6",
        "colab_type": "code",
        "colab": {
          "base_uri": "https://localhost:8080/",
          "height": 34
        },
        "outputId": "2a7864ab-6daa-4516-a4c0-a66eefbbcf9b"
      },
      "cell_type": "code",
      "source": [
        "print_competitor_age(conor)"
      ],
      "execution_count": 0,
      "outputs": [
        {
          "output_type": "stream",
          "text": [
            "Conor McGregor is 29 years old\n"
          ],
          "name": "stdout"
        }
      ]
    },
    {
      "metadata": {
        "id": "HcYXjaiy5RFs",
        "colab_type": "text"
      },
      "cell_type": "markdown",
      "source": [
        "### Classes with Inheritance and Methods\n",
        "Classes can also inhert from other classes including methods.\n",
        "Often inheritance can be complex and a rule of thumb is to use discretion.\n",
        "\n",
        "In the example below, a UFC class was created that has a method (similar to a function), that can determine what weight class an athlete belongs to.  Then the Competitor class uses \"inheritance\", to inhert the code in the class."
      ]
    },
    {
      "metadata": {
        "id": "LQhVYBFj5gmP",
        "colab_type": "code",
        "colab": {}
      },
      "cell_type": "code",
      "source": [
        "class UFC:\n",
        "    def weight_class(self, weight):\n",
        "        \"\"\"Weight Class Finder\"\"\"\n",
        "        \n",
        "        classes = {155: \"Lightweight\", \n",
        "                    170: \"Welterweight\"}\n",
        "        return classes[weight]\n"
      ],
      "execution_count": 0,
      "outputs": []
    },
    {
      "metadata": {
        "id": "m5YDNCQ25dCs",
        "colab_type": "code",
        "colab": {}
      },
      "cell_type": "code",
      "source": [
        "class Competitor(UFC): pass"
      ],
      "execution_count": 0,
      "outputs": []
    },
    {
      "metadata": {
        "id": "fgkYzGDn5jQh",
        "colab_type": "code",
        "colab": {}
      },
      "cell_type": "code",
      "source": [
        "conor = Competitor()\n",
        "conor.name = \"Conor McGregor\"\n",
        "conor.age = 29\n",
        "conor.weight = 155\n"
      ],
      "execution_count": 0,
      "outputs": []
    },
    {
      "metadata": {
        "id": "E3I691DA5lZT",
        "colab_type": "code",
        "colab": {}
      },
      "cell_type": "code",
      "source": [
        "nate = Competitor()\n",
        "nate.name = \"Nate Diaz\"\n",
        "nate.age = 30\n",
        "nate.weight = 170\n"
      ],
      "execution_count": 0,
      "outputs": []
    },
    {
      "metadata": {
        "id": "-oLYkHtH5m9W",
        "colab_type": "code",
        "colab": {
          "base_uri": "https://localhost:8080/",
          "height": 34
        },
        "outputId": "03e8ec64-ed8e-4c44-9241-dbfe6b788872"
      },
      "cell_type": "code",
      "source": [
        "print(conor.weight_class(conor.weight))"
      ],
      "execution_count": 0,
      "outputs": [
        {
          "output_type": "stream",
          "text": [
            "Lightweight\n"
          ],
          "name": "stdout"
        }
      ]
    },
    {
      "metadata": {
        "id": "OQg_JY9k5qCt",
        "colab_type": "code",
        "colab": {
          "base_uri": "https://localhost:8080/",
          "height": 34
        },
        "outputId": "55833469-f616-43be-bb25-5e63e73841aa"
      },
      "cell_type": "code",
      "source": [
        "print(nate.weight_class(nate.weight))"
      ],
      "execution_count": 0,
      "outputs": [
        {
          "output_type": "stream",
          "text": [
            "Welterweight\n"
          ],
          "name": "stdout"
        }
      ]
    },
    {
      "metadata": {
        "id": "X06l7-Hn6LB-",
        "colab_type": "text"
      },
      "cell_type": "markdown",
      "source": [
        "### Differences Between Classes and Functions\n",
        "The key differences between Classes and Functions are:\n",
        "\n",
        "* Functions are much easier to reason about\n",
        "* Functions (typically) have state inside the function only, where classes have state persists outside of the function\n",
        "* Classes can offer a more advanced level of abstraction at the cost of complexity"
      ]
    },
    {
      "metadata": {
        "id": "6clKK6eovI89",
        "colab_type": "text"
      },
      "cell_type": "markdown",
      "source": [
        "### Control Structures\n",
        "*  **For loops**\n",
        "*  While loops\n",
        "*  If/else statements\n",
        "*  Try/Except\n",
        "*  Generator expressions\n",
        "*  List Comprehensions\n",
        "*  Pattern Matching\n",
        "\n",
        "All programs eventually need a way to control the flow of execution.  This section describes techniques."
      ]
    },
    {
      "metadata": {
        "id": "kkrALu_wvRMQ",
        "colab_type": "text"
      },
      "cell_type": "markdown",
      "source": [
        "**For Loops**\n",
        "\n",
        "The for loop is one of the most fundamental control structures in Python.\n",
        "One common pattern is to use the range function to generate a range of values, then to iterate on them."
      ]
    },
    {
      "metadata": {
        "id": "abHaxRTlth7c",
        "colab_type": "code",
        "colab": {
          "base_uri": "https://localhost:8080/",
          "height": 34
        },
        "outputId": "56b5675a-3e6a-402a-e1cd-87a64a077e86"
      },
      "cell_type": "code",
      "source": [
        "res = range(3)\n",
        "print(list(res))"
      ],
      "execution_count": 0,
      "outputs": [
        {
          "output_type": "stream",
          "text": [
            "[0, 1, 2]\n"
          ],
          "name": "stdout"
        }
      ]
    },
    {
      "metadata": {
        "id": "tnUuKBtlvWz5",
        "colab_type": "code",
        "colab": {
          "base_uri": "https://localhost:8080/",
          "height": 68
        },
        "outputId": "4efbc3b6-b0ca-4fe6-aec7-72bd898aa805"
      },
      "cell_type": "code",
      "source": [
        "for i in range(3):\n",
        "    print(i)"
      ],
      "execution_count": 0,
      "outputs": [
        {
          "output_type": "stream",
          "text": [
            "0\n",
            "1\n",
            "2\n"
          ],
          "name": "stdout"
        }
      ]
    },
    {
      "metadata": {
        "id": "ANmx4hYRvdXF",
        "colab_type": "text"
      },
      "cell_type": "markdown",
      "source": [
        "**For loop over list**\n",
        "\n",
        "Another common pattern is to iterate or a list"
      ]
    },
    {
      "metadata": {
        "id": "K_XrmKB6vYHw",
        "colab_type": "code",
        "colab": {
          "base_uri": "https://localhost:8080/",
          "height": 68
        },
        "outputId": "f1c86fe9-4a56-4303-e1c5-86688f2d5127"
      },
      "cell_type": "code",
      "source": [
        "martial_arts = [\"Sambo\", \"Muay Thai\", \"BJJ\"]\n",
        "for martial_art in martial_arts:\n",
        "    print(f\"{martial_art} has influenced modern mixed martial arts\")"
      ],
      "execution_count": 0,
      "outputs": [
        {
          "output_type": "stream",
          "text": [
            "Sambo has influenced modern mixed martial arts\n",
            "Muay Thai has influenced modern mixed martial arts\n",
            "BJJ has influenced modern mixed martial arts\n"
          ],
          "name": "stdout"
        }
      ]
    },
    {
      "metadata": {
        "id": "McQsitwbvrIG",
        "colab_type": "text"
      },
      "cell_type": "markdown",
      "source": [
        "**While Loops**\n",
        "\n",
        "A While Loop is often used as a way of looping until a condition is met. A very common use of a while loop is to create an infinite loop. In the example below a while loop is used to filter a function that returns 1 of 2 types of attacks."
      ]
    },
    {
      "metadata": {
        "id": "XA-2E-uNvhUK",
        "colab_type": "code",
        "colab": {
          "base_uri": "https://localhost:8080/",
          "height": 85
        },
        "outputId": "9d58b70e-7bda-49d3-ebfc-f750b1b79fc5"
      },
      "cell_type": "code",
      "source": [
        "def attacks():\n",
        "    list_of_attacks = [\"lower_body\", \"lower_body\",\"upper_body\"]\n",
        "    print(f\"There are a total of {len(list_of_attacks)} attacks coming!\")\n",
        "    for attack in list_of_attacks:\n",
        "        yield attack\n",
        "attack = attacks()\n",
        "count = 0\n",
        "while next(attack) == \"lower_body\":\n",
        "    count +=1\n",
        "    print(f\"crossing legs to prevent attack #{count}\")\n",
        "else:\n",
        "    count +=1\n",
        "    print(f\"This is not a lower body attack, I will cross my arms for #{count}\")"
      ],
      "execution_count": 0,
      "outputs": [
        {
          "output_type": "stream",
          "text": [
            "There are a total of 3 attacks coming!\n",
            "crossing legs to prevent attack #1\n",
            "crossing legs to prevent attack #2\n",
            "This is not a lower body attack, I will cross my arms for #3\n"
          ],
          "name": "stdout"
        }
      ]
    },
    {
      "metadata": {
        "id": "88ORBTOPvyKy",
        "colab_type": "text"
      },
      "cell_type": "markdown",
      "source": [
        "**If/Else**\n",
        "\n",
        "If/Else statements are a common way to branch between decisions. In the example below if/elif are used to match a branch. If there are no matches, the last \"else\" statement is run."
      ]
    },
    {
      "metadata": {
        "id": "4rPN8VYgvvsL",
        "colab_type": "code",
        "colab": {}
      },
      "cell_type": "code",
      "source": [
        "def recommended_attack(position):\n",
        "    \"\"\"Recommends an attack based on the position\"\"\"\n",
        "    if position == \"full_guard\":\n",
        "        print(f\"Try an armbar attack\")\n",
        "    elif position == \"half_guard\":\n",
        "        print(f\"Try a kimura attack\")\n",
        "    elif position == \"full_mount\":\n",
        "        print(f\"Try an arm triangle\")\n",
        "    else:\n",
        "        print(f\"You're on your own, there is no suggestion for an attack\")"
      ],
      "execution_count": 0,
      "outputs": []
    },
    {
      "metadata": {
        "id": "liJPIg7dv4kq",
        "colab_type": "code",
        "colab": {
          "base_uri": "https://localhost:8080/",
          "height": 34
        },
        "outputId": "deef69d6-963b-406b-b829-6e8fdc9c6108"
      },
      "cell_type": "code",
      "source": [
        "recommended_attack(\"full_guard\")"
      ],
      "execution_count": 0,
      "outputs": [
        {
          "output_type": "stream",
          "text": [
            "Try an armbar attack\n"
          ],
          "name": "stdout"
        }
      ]
    },
    {
      "metadata": {
        "id": "7d6qc-4yv_7F",
        "colab_type": "code",
        "colab": {
          "base_uri": "https://localhost:8080/",
          "height": 34
        },
        "outputId": "651231d9-1116-4d14-e031-88546e1d1e5d"
      },
      "cell_type": "code",
      "source": [
        "recommended_attack(\"z_guard\")"
      ],
      "execution_count": 0,
      "outputs": [
        {
          "output_type": "stream",
          "text": [
            "You're on your own, there is no suggestion for an attack\n"
          ],
          "name": "stdout"
        }
      ]
    },
    {
      "metadata": {
        "id": "22pQ51hdwE4w",
        "colab_type": "text"
      },
      "cell_type": "markdown",
      "source": [
        "**Generator Expression**\n",
        "\n",
        "Generator Expressions build further on the concept of yield by allowing for the lazy evaluation of a sequence. The benefit of generator expressions is that nothing is evaluated or brought into memory until it is actually evaluated.\n",
        "\n",
        "This is why the example below can be operating on an infi-nite sequence of random attacks that are generated. In the generator pipeline the lower-case attack, such as \"arm_triangle\" is converted to \"ARM_TRIANGLE\", next the underscore is remove \"ARM TRIANGLE\"."
      ]
    },
    {
      "metadata": {
        "id": "5AIcGpUgwBR0",
        "colab_type": "code",
        "colab": {}
      },
      "cell_type": "code",
      "source": [
        "def lazy_return_random_attacks():\n",
        "    \"\"\"Yield attacks each time\"\"\"\n",
        "    import random\n",
        "    attacks = {\"kimura\": \"upper_body\",\n",
        "           \"straight_ankle_lock\":\"lower_body\", \n",
        "           \"arm_triangle\":\"upper_body\",\n",
        "            \"keylock\": \"upper_body\",\n",
        "            \"knee_bar\": \"lower_body\"}\n",
        "    while True:\n",
        "        random_attack = random.choices(list(attacks.keys()))\n",
        "        yield random_attack\n",
        "        \n",
        "#Make all attacks appear as Upper Case\n",
        "upper_case_attacks = (attack.pop().upper() for attack in lazy_return_random_attacks())"
      ],
      "execution_count": 0,
      "outputs": []
    },
    {
      "metadata": {
        "id": "eaWWG7N8wNHd",
        "colab_type": "code",
        "colab": {
          "base_uri": "https://localhost:8080/",
          "height": 34
        },
        "outputId": "14c67630-4fbd-4c9e-a7ae-1341f94f5910"
      },
      "cell_type": "code",
      "source": [
        "next(upper_case_attacks)"
      ],
      "execution_count": 0,
      "outputs": [
        {
          "output_type": "execute_result",
          "data": {
            "text/plain": [
              "'KEYLOCK'"
            ]
          },
          "metadata": {
            "tags": []
          },
          "execution_count": 85
        }
      ]
    },
    {
      "metadata": {
        "id": "NPKsH9dPwO89",
        "colab_type": "code",
        "colab": {}
      },
      "cell_type": "code",
      "source": [
        "## Generator Pipeline:  One expression chains into the next\n",
        "#Make all attacks appear as Upper Case\n",
        "upper_case_attacks = (attack.pop().upper() for attack in lazy_return_random_attacks())\n",
        "#Remove the underscore\n",
        "remove_underscore = (attack.split(\"_\") for attack in upper_case_attacks)\n",
        "#Create a new phrase \n",
        "new_attack_phrase = (\" \".join(phrase) for phrase in remove_underscore)"
      ],
      "execution_count": 0,
      "outputs": []
    },
    {
      "metadata": {
        "id": "xb4vf2URwRnk",
        "colab_type": "code",
        "colab": {
          "base_uri": "https://localhost:8080/",
          "height": 34
        },
        "outputId": "9ea27959-c2e9-468c-a829-06284a4674ad"
      },
      "cell_type": "code",
      "source": [
        "next(new_attack_phrase)"
      ],
      "execution_count": 0,
      "outputs": [
        {
          "output_type": "execute_result",
          "data": {
            "text/plain": [
              "'KEYLOCK'"
            ]
          },
          "metadata": {
            "tags": []
          },
          "execution_count": 87
        }
      ]
    },
    {
      "metadata": {
        "id": "OA9PLTTFwV00",
        "colab_type": "code",
        "colab": {
          "base_uri": "https://localhost:8080/",
          "height": 187
        },
        "outputId": "1ea2807a-9cd1-4392-9728-de02f7ef5e95"
      },
      "cell_type": "code",
      "source": [
        "for number in range(10):\n",
        "    print(next(new_attack_phrase))"
      ],
      "execution_count": 0,
      "outputs": [
        {
          "output_type": "stream",
          "text": [
            "KNEE BAR\n",
            "KIMURA\n",
            "KEYLOCK\n",
            "KNEE BAR\n",
            "KNEE BAR\n",
            "STRAIGHT ANKLE LOCK\n",
            "KNEE BAR\n",
            "ARM TRIANGLE\n",
            "ARM TRIANGLE\n",
            "KIMURA\n"
          ],
          "name": "stdout"
        }
      ]
    },
    {
      "metadata": {
        "id": "bBqchsBXwaiD",
        "colab_type": "text"
      },
      "cell_type": "markdown",
      "source": [
        "**List Comprehension**\n",
        "\n",
        "A list comprehension is very similar to a generator expression, but it evaluated in memory. Additionally, it is optimized C code that be a substantial improvement over a traditional for loop."
      ]
    },
    {
      "metadata": {
        "id": "X_pm3eyqwXXM",
        "colab_type": "code",
        "colab": {}
      },
      "cell_type": "code",
      "source": [
        "martial_arts = [\"Sambo\", \"Muay Thai\", \"BJJ\"]\n",
        "new_phrases = [\"\".join(f\"Mixed Martial Arts is influenced by {martial_art}\") for martial_art in martial_arts]"
      ],
      "execution_count": 0,
      "outputs": []
    },
    {
      "metadata": {
        "id": "lVhLoAQ2wiHP",
        "colab_type": "code",
        "colab": {
          "base_uri": "https://localhost:8080/",
          "height": 54
        },
        "outputId": "b1e3f595-613b-42f3-d55c-09c399adcbc8"
      },
      "cell_type": "code",
      "source": [
        "print(new_phrases)"
      ],
      "execution_count": 0,
      "outputs": [
        {
          "output_type": "stream",
          "text": [
            "['Mixed Martial Arts is influenced by Sambo', 'Mixed Martial Arts is influenced by Muay Thai', 'Mixed Martial Arts is influenced by BJJ']\n"
          ],
          "name": "stdout"
        }
      ]
    },
    {
      "metadata": {
        "id": "9wWsG9Cdwme0",
        "colab_type": "text"
      },
      "cell_type": "markdown",
      "source": [
        "**Try/Except**\n",
        "\n",
        "There is an expression in sports, \"Always be prepared to do your best on your worst day\". Try/Except statements are similar. It is always a good idea to think about what happens when something goes wrong in code that is written. Try/Except blocks allow for this."
      ]
    },
    {
      "metadata": {
        "id": "G94tPojywjkt",
        "colab_type": "code",
        "colab": {
          "base_uri": "https://localhost:8080/",
          "height": 85
        },
        "outputId": "57fd3a09-dd9d-4f74-d686-cae504bc94e6"
      },
      "cell_type": "code",
      "source": [
        "tournaments = [\"NAGA\", \"IBJJF\", \"EBI\"]\n",
        "while True:\n",
        "    try:\n",
        "        tournament = tournaments.pop()\n",
        "        print(f\"I would like to compete in the {tournament} tournament.\")\n",
        "    except IndexError:\n",
        "        print(\"There are no more tournaments\")\n",
        "        break"
      ],
      "execution_count": 0,
      "outputs": [
        {
          "output_type": "stream",
          "text": [
            "I would like to compete in the EBI tournament.\n",
            "I would like to compete in the IBJJF tournament.\n",
            "I would like to compete in the NAGA tournament.\n",
            "There are no more tournaments\n"
          ],
          "name": "stdout"
        }
      ]
    },
    {
      "metadata": {
        "id": "mvr9hk6Hwzi-",
        "colab_type": "code",
        "colab": {}
      },
      "cell_type": "code",
      "source": [
        ""
      ],
      "execution_count": 0,
      "outputs": []
    }
  ]
}